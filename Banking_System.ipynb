{
 "cells": [
  {
   "cell_type": "code",
   "execution_count": null,
   "id": "fc6a63b3-3e93-42ff-b258-bb2a4ec83019",
   "metadata": {},
   "outputs": [
    {
     "name": "stdout",
     "output_type": "stream",
     "text": [
      "\n",
      "Choose an option:\n",
      "1. Create Account\n",
      "2. Deposit Money\n",
      "3. Withdraw Money\n",
      "4. Check Balance\n",
      "5. Exit\n"
     ]
    }
   ],
   "source": [
    "class Account:\n",
    "    def __init_(self, account_number, balance=500):\n",
    "        self.account_number = account_number\n",
    "        self.balance = balance\n",
    "\n",
    "    def deposit(self, amount):\n",
    "        if amount > 0:\n",
    "            self.balance += amount\n",
    "            print(f\"Deposited ₹{amount}. Your new balance is ₹{self.balance}\")\n",
    "        else:\n",
    "            print(\"Invalid deposit amount.\")\n",
    "\n",
    "    def withdraw(self, amount):\n",
    "        if amount > 0 and amount <= self.balance:\n",
    "            self.balance -= amount\n",
    "            print(f\"Withdrew ₹{amount}. Your new balance is ₹{self.balance}\")\n",
    "        else:\n",
    "            print(\"Insufficient funds or invalid withdrawal amount.\")\n",
    "\n",
    "    def check_balance(self):\n",
    "        print(f\"Your current balance is ₹{self.balance}\")\n",
    "\n",
    "\n",
    "def main():\n",
    "    accounts = {}\n",
    "\n",
    "    while True:\n",
    "        print(\"\\nChoose an option:\")\n",
    "        print(\"1. Create Account\")\n",
    "        print(\"2. Deposit Money\")\n",
    "        print(\"3. Withdraw Money\")\n",
    "        print(\"4. Check Balance\")\n",
    "        print(\"5. Exit\")\n",
    "\n",
    "        choice = int(input(\"Enter your choice: \"))\n",
    "\n",
    "        if choice == 1:\n",
    "            account_number = int(input(\"Enter account number: \"))\n",
    "            accounts[account_number] = Account(account_number)\n",
    "            print(\"Account created successfully!\")\n",
    "        elif choice == 2:\n",
    "            account_number = int(input(\"Enter account number: \"))\n",
    "            if account_number in accounts:\n",
    "                amount = int(input(\"Enter deposit amount: \"))\n",
    "                accounts[account_number].deposit(amount)\n",
    "            else:\n",
    "                print(\"Account not found.\")\n",
    "        elif choice == 3:\n",
    "            account_number = int(input(\"Enter account number: \"))\n",
    "            if account_number in accounts:\n",
    "                amount = int(input(\"Enter withdrawal amount: \"))\n",
    "                accounts[account_number].withdraw(amount)\n",
    "            else:\n",
    "                print(\"Account not found.\")\n",
    "        elif choice == 4:\n",
    "            account_number = int(input(\"Enter account number: \"))\n",
    "            if account_number in accounts:\n",
    "                accounts[account_number].check_balance()\n",
    "            else:\n",
    "                print(\"Account not found.\")\n",
    "        elif choice == 5:\n",
    "            print(\"Exiting...\")\n",
    "            break\n",
    "        else:\n",
    "            print(\"Invalid choice. Please try again.\")\n",
    "\n",
    "\n",
    "if __name__ == \"__main__\":\n",
    "    main()"
   ]
  },
  {
   "cell_type": "code",
   "execution_count": null,
   "id": "e7efb703-43cd-4e5d-a06e-092827be07e8",
   "metadata": {},
   "outputs": [],
   "source": []
  }
 ],
 "metadata": {
  "kernelspec": {
   "display_name": "Python 3 (ipykernel)",
   "language": "python",
   "name": "python3"
  },
  "language_info": {
   "codemirror_mode": {
    "name": "ipython",
    "version": 3
   },
   "file_extension": ".py",
   "mimetype": "text/x-python",
   "name": "python",
   "nbconvert_exporter": "python",
   "pygments_lexer": "ipython3",
   "version": "3.12.4"
  }
 },
 "nbformat": 4,
 "nbformat_minor": 5
}
